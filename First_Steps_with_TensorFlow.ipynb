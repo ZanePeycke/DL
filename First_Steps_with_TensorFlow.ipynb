{
  "nbformat": 4,
  "nbformat_minor": 0,
  "metadata": {
    "colab": {
      "name": "First Steps with TensorFlow.ipynb",
      "provenance": [],
      "authorship_tag": "ABX9TyOnHOG7lqRYQCjKjT28l7hU",
      "include_colab_link": true
    },
    "kernelspec": {
      "name": "python3",
      "display_name": "Python 3"
    }
  },
  "cells": [
    {
      "cell_type": "markdown",
      "metadata": {
        "id": "view-in-github",
        "colab_type": "text"
      },
      "source": [
        "<a href=\"https://colab.research.google.com/github/ZanePeycke/DL/blob/master/First_Steps_with_TensorFlow.ipynb\" target=\"_parent\"><img src=\"https://colab.research.google.com/assets/colab-badge.svg\" alt=\"Open In Colab\"/></a>"
      ]
    },
    {
      "cell_type": "code",
      "metadata": {
        "id": "29T63xm4P-5B",
        "colab_type": "code",
        "colab": {}
      },
      "source": [
        "from __future__ import print_function\n",
        "import math\n",
        "from IPython import display\n",
        "from matplotlib import cm\n",
        "from matplotlib import gridspec\n",
        "from matplotlib import pyplot as plt\n",
        "import numpy as np\n",
        "import pandas as pd\n",
        "from sklearn import metrics\n",
        "%tensorflow_version 1.x\n",
        "import tensorflow as tf\n",
        "from tensorflow.python.data import Dataset\n",
        "tf.logging.set_verbosity(tf.logging.ERROR)\n",
        "pd.options.display.max_rows = 10\n",
        "pd.options.display.float_format = '{:.1f}'.format"
      ],
      "execution_count": 0,
      "outputs": []
    },
    {
      "cell_type": "code",
      "metadata": {
        "id": "zUp6_3xfgyjo",
        "colab_type": "code",
        "colab": {}
      },
      "source": [
        "california_housing_dataframe = pd.read_csv(\"https://download.mlcc.google.com/mledu-datasets/california_housing_train.csv\", sep=\",\")"
      ],
      "execution_count": 0,
      "outputs": []
    },
    {
      "cell_type": "code",
      "metadata": {
        "id": "Jz_2bohmhAT-",
        "colab_type": "code",
        "colab": {}
      },
      "source": [
        "# Randomize the data to avoid any ordering effects that could effect SGD\n",
        "# Scale median house value to thousands, this will allow us to learn more efficiently\n",
        "# with a common learning rate\n",
        "california_housing_dataframe = california_housing_dataframe.reindex(np.random.permutation(california_housing_dataframe.index))"
      ],
      "execution_count": 0,
      "outputs": []
    },
    {
      "cell_type": "code",
      "metadata": {
        "id": "x9PTMt54h_8o",
        "colab_type": "code",
        "colab": {}
      },
      "source": [
        "california_housing_dataframe['median_house_value'] /=1000.0"
      ],
      "execution_count": 0,
      "outputs": []
    },
    {
      "cell_type": "code",
      "metadata": {
        "id": "BQU7wvx8iHNx",
        "colab_type": "code",
        "outputId": "d392f995-554e-424d-fea7-8a56fd13642d",
        "colab": {
          "base_uri": "https://localhost:8080/",
          "height": 419
        }
      },
      "source": [
        "california_housing_dataframe"
      ],
      "execution_count": 5,
      "outputs": [
        {
          "output_type": "execute_result",
          "data": {
            "text/html": [
              "<div>\n",
              "<style scoped>\n",
              "    .dataframe tbody tr th:only-of-type {\n",
              "        vertical-align: middle;\n",
              "    }\n",
              "\n",
              "    .dataframe tbody tr th {\n",
              "        vertical-align: top;\n",
              "    }\n",
              "\n",
              "    .dataframe thead th {\n",
              "        text-align: right;\n",
              "    }\n",
              "</style>\n",
              "<table border=\"1\" class=\"dataframe\">\n",
              "  <thead>\n",
              "    <tr style=\"text-align: right;\">\n",
              "      <th></th>\n",
              "      <th>longitude</th>\n",
              "      <th>latitude</th>\n",
              "      <th>housing_median_age</th>\n",
              "      <th>total_rooms</th>\n",
              "      <th>total_bedrooms</th>\n",
              "      <th>population</th>\n",
              "      <th>households</th>\n",
              "      <th>median_income</th>\n",
              "      <th>median_house_value</th>\n",
              "    </tr>\n",
              "  </thead>\n",
              "  <tbody>\n",
              "    <tr>\n",
              "      <th>149</th>\n",
              "      <td>-116.2</td>\n",
              "      <td>33.7</td>\n",
              "      <td>26.0</td>\n",
              "      <td>2399.0</td>\n",
              "      <td>625.0</td>\n",
              "      <td>2654.0</td>\n",
              "      <td>535.0</td>\n",
              "      <td>2.3</td>\n",
              "      <td>60.6</td>\n",
              "    </tr>\n",
              "    <tr>\n",
              "      <th>1942</th>\n",
              "      <td>-117.3</td>\n",
              "      <td>34.4</td>\n",
              "      <td>11.0</td>\n",
              "      <td>3572.0</td>\n",
              "      <td>592.0</td>\n",
              "      <td>1876.0</td>\n",
              "      <td>507.0</td>\n",
              "      <td>3.7</td>\n",
              "      <td>105.1</td>\n",
              "    </tr>\n",
              "    <tr>\n",
              "      <th>7388</th>\n",
              "      <td>-118.3</td>\n",
              "      <td>34.1</td>\n",
              "      <td>48.0</td>\n",
              "      <td>1354.0</td>\n",
              "      <td>279.0</td>\n",
              "      <td>716.0</td>\n",
              "      <td>309.0</td>\n",
              "      <td>3.7</td>\n",
              "      <td>385.0</td>\n",
              "    </tr>\n",
              "    <tr>\n",
              "      <th>1528</th>\n",
              "      <td>-117.2</td>\n",
              "      <td>33.0</td>\n",
              "      <td>20.0</td>\n",
              "      <td>3370.0</td>\n",
              "      <td>433.0</td>\n",
              "      <td>1020.0</td>\n",
              "      <td>408.0</td>\n",
              "      <td>11.1</td>\n",
              "      <td>500.0</td>\n",
              "    </tr>\n",
              "    <tr>\n",
              "      <th>15704</th>\n",
              "      <td>-122.4</td>\n",
              "      <td>37.7</td>\n",
              "      <td>52.0</td>\n",
              "      <td>1931.0</td>\n",
              "      <td>329.0</td>\n",
              "      <td>1025.0</td>\n",
              "      <td>293.0</td>\n",
              "      <td>2.9</td>\n",
              "      <td>192.0</td>\n",
              "    </tr>\n",
              "    <tr>\n",
              "      <th>...</th>\n",
              "      <td>...</td>\n",
              "      <td>...</td>\n",
              "      <td>...</td>\n",
              "      <td>...</td>\n",
              "      <td>...</td>\n",
              "      <td>...</td>\n",
              "      <td>...</td>\n",
              "      <td>...</td>\n",
              "      <td>...</td>\n",
              "    </tr>\n",
              "    <tr>\n",
              "      <th>14339</th>\n",
              "      <td>-122.1</td>\n",
              "      <td>37.4</td>\n",
              "      <td>19.0</td>\n",
              "      <td>1085.0</td>\n",
              "      <td>288.0</td>\n",
              "      <td>1009.0</td>\n",
              "      <td>305.0</td>\n",
              "      <td>3.9</td>\n",
              "      <td>276.0</td>\n",
              "    </tr>\n",
              "    <tr>\n",
              "      <th>10321</th>\n",
              "      <td>-120.1</td>\n",
              "      <td>37.0</td>\n",
              "      <td>41.0</td>\n",
              "      <td>1164.0</td>\n",
              "      <td>211.0</td>\n",
              "      <td>476.0</td>\n",
              "      <td>171.0</td>\n",
              "      <td>2.4</td>\n",
              "      <td>70.7</td>\n",
              "    </tr>\n",
              "    <tr>\n",
              "      <th>13925</th>\n",
              "      <td>-122.0</td>\n",
              "      <td>37.4</td>\n",
              "      <td>30.0</td>\n",
              "      <td>1269.0</td>\n",
              "      <td>290.0</td>\n",
              "      <td>556.0</td>\n",
              "      <td>266.0</td>\n",
              "      <td>3.8</td>\n",
              "      <td>325.0</td>\n",
              "    </tr>\n",
              "    <tr>\n",
              "      <th>3574</th>\n",
              "      <td>-117.9</td>\n",
              "      <td>33.9</td>\n",
              "      <td>27.0</td>\n",
              "      <td>829.0</td>\n",
              "      <td>114.0</td>\n",
              "      <td>383.0</td>\n",
              "      <td>133.0</td>\n",
              "      <td>9.3</td>\n",
              "      <td>293.5</td>\n",
              "    </tr>\n",
              "    <tr>\n",
              "      <th>8173</th>\n",
              "      <td>-118.4</td>\n",
              "      <td>33.9</td>\n",
              "      <td>27.0</td>\n",
              "      <td>1536.0</td>\n",
              "      <td>377.0</td>\n",
              "      <td>553.0</td>\n",
              "      <td>326.0</td>\n",
              "      <td>5.4</td>\n",
              "      <td>500.0</td>\n",
              "    </tr>\n",
              "  </tbody>\n",
              "</table>\n",
              "<p>17000 rows × 9 columns</p>\n",
              "</div>"
            ],
            "text/plain": [
              "       longitude  latitude  ...  median_income  median_house_value\n",
              "149       -116.2      33.7  ...            2.3                60.6\n",
              "1942      -117.3      34.4  ...            3.7               105.1\n",
              "7388      -118.3      34.1  ...            3.7               385.0\n",
              "1528      -117.2      33.0  ...           11.1               500.0\n",
              "15704     -122.4      37.7  ...            2.9               192.0\n",
              "...          ...       ...  ...            ...                 ...\n",
              "14339     -122.1      37.4  ...            3.9               276.0\n",
              "10321     -120.1      37.0  ...            2.4                70.7\n",
              "13925     -122.0      37.4  ...            3.8               325.0\n",
              "3574      -117.9      33.9  ...            9.3               293.5\n",
              "8173      -118.4      33.9  ...            5.4               500.0\n",
              "\n",
              "[17000 rows x 9 columns]"
            ]
          },
          "metadata": {
            "tags": []
          },
          "execution_count": 5
        }
      ]
    },
    {
      "cell_type": "code",
      "metadata": {
        "id": "jFz8SG-HiHyQ",
        "colab_type": "code",
        "outputId": "2f783b0a-dacd-44fa-d6db-d230fb48475a",
        "colab": {
          "base_uri": "https://localhost:8080/",
          "height": 297
        }
      },
      "source": [
        "california_housing_dataframe.describe()"
      ],
      "execution_count": 6,
      "outputs": [
        {
          "output_type": "execute_result",
          "data": {
            "text/html": [
              "<div>\n",
              "<style scoped>\n",
              "    .dataframe tbody tr th:only-of-type {\n",
              "        vertical-align: middle;\n",
              "    }\n",
              "\n",
              "    .dataframe tbody tr th {\n",
              "        vertical-align: top;\n",
              "    }\n",
              "\n",
              "    .dataframe thead th {\n",
              "        text-align: right;\n",
              "    }\n",
              "</style>\n",
              "<table border=\"1\" class=\"dataframe\">\n",
              "  <thead>\n",
              "    <tr style=\"text-align: right;\">\n",
              "      <th></th>\n",
              "      <th>longitude</th>\n",
              "      <th>latitude</th>\n",
              "      <th>housing_median_age</th>\n",
              "      <th>total_rooms</th>\n",
              "      <th>total_bedrooms</th>\n",
              "      <th>population</th>\n",
              "      <th>households</th>\n",
              "      <th>median_income</th>\n",
              "      <th>median_house_value</th>\n",
              "    </tr>\n",
              "  </thead>\n",
              "  <tbody>\n",
              "    <tr>\n",
              "      <th>count</th>\n",
              "      <td>17000.0</td>\n",
              "      <td>17000.0</td>\n",
              "      <td>17000.0</td>\n",
              "      <td>17000.0</td>\n",
              "      <td>17000.0</td>\n",
              "      <td>17000.0</td>\n",
              "      <td>17000.0</td>\n",
              "      <td>17000.0</td>\n",
              "      <td>17000.0</td>\n",
              "    </tr>\n",
              "    <tr>\n",
              "      <th>mean</th>\n",
              "      <td>-119.6</td>\n",
              "      <td>35.6</td>\n",
              "      <td>28.6</td>\n",
              "      <td>2643.7</td>\n",
              "      <td>539.4</td>\n",
              "      <td>1429.6</td>\n",
              "      <td>501.2</td>\n",
              "      <td>3.9</td>\n",
              "      <td>207.3</td>\n",
              "    </tr>\n",
              "    <tr>\n",
              "      <th>std</th>\n",
              "      <td>2.0</td>\n",
              "      <td>2.1</td>\n",
              "      <td>12.6</td>\n",
              "      <td>2179.9</td>\n",
              "      <td>421.5</td>\n",
              "      <td>1147.9</td>\n",
              "      <td>384.5</td>\n",
              "      <td>1.9</td>\n",
              "      <td>116.0</td>\n",
              "    </tr>\n",
              "    <tr>\n",
              "      <th>min</th>\n",
              "      <td>-124.3</td>\n",
              "      <td>32.5</td>\n",
              "      <td>1.0</td>\n",
              "      <td>2.0</td>\n",
              "      <td>1.0</td>\n",
              "      <td>3.0</td>\n",
              "      <td>1.0</td>\n",
              "      <td>0.5</td>\n",
              "      <td>15.0</td>\n",
              "    </tr>\n",
              "    <tr>\n",
              "      <th>25%</th>\n",
              "      <td>-121.8</td>\n",
              "      <td>33.9</td>\n",
              "      <td>18.0</td>\n",
              "      <td>1462.0</td>\n",
              "      <td>297.0</td>\n",
              "      <td>790.0</td>\n",
              "      <td>282.0</td>\n",
              "      <td>2.6</td>\n",
              "      <td>119.4</td>\n",
              "    </tr>\n",
              "    <tr>\n",
              "      <th>50%</th>\n",
              "      <td>-118.5</td>\n",
              "      <td>34.2</td>\n",
              "      <td>29.0</td>\n",
              "      <td>2127.0</td>\n",
              "      <td>434.0</td>\n",
              "      <td>1167.0</td>\n",
              "      <td>409.0</td>\n",
              "      <td>3.5</td>\n",
              "      <td>180.4</td>\n",
              "    </tr>\n",
              "    <tr>\n",
              "      <th>75%</th>\n",
              "      <td>-118.0</td>\n",
              "      <td>37.7</td>\n",
              "      <td>37.0</td>\n",
              "      <td>3151.2</td>\n",
              "      <td>648.2</td>\n",
              "      <td>1721.0</td>\n",
              "      <td>605.2</td>\n",
              "      <td>4.8</td>\n",
              "      <td>265.0</td>\n",
              "    </tr>\n",
              "    <tr>\n",
              "      <th>max</th>\n",
              "      <td>-114.3</td>\n",
              "      <td>42.0</td>\n",
              "      <td>52.0</td>\n",
              "      <td>37937.0</td>\n",
              "      <td>6445.0</td>\n",
              "      <td>35682.0</td>\n",
              "      <td>6082.0</td>\n",
              "      <td>15.0</td>\n",
              "      <td>500.0</td>\n",
              "    </tr>\n",
              "  </tbody>\n",
              "</table>\n",
              "</div>"
            ],
            "text/plain": [
              "       longitude  latitude  ...  median_income  median_house_value\n",
              "count    17000.0   17000.0  ...        17000.0             17000.0\n",
              "mean      -119.6      35.6  ...            3.9               207.3\n",
              "std          2.0       2.1  ...            1.9               116.0\n",
              "min       -124.3      32.5  ...            0.5                15.0\n",
              "25%       -121.8      33.9  ...            2.6               119.4\n",
              "50%       -118.5      34.2  ...            3.5               180.4\n",
              "75%       -118.0      37.7  ...            4.8               265.0\n",
              "max       -114.3      42.0  ...           15.0               500.0\n",
              "\n",
              "[8 rows x 9 columns]"
            ]
          },
          "metadata": {
            "tags": []
          },
          "execution_count": 6
        }
      ]
    },
    {
      "cell_type": "code",
      "metadata": {
        "id": "Nu9S1wyNRFj0",
        "colab_type": "code",
        "colab": {}
      },
      "source": [
        "# Use linear regression to predict median home value from the number of rooms\n",
        "\n",
        "#Define an input feature (total rooms)\n",
        "my_feature = california_housing_dataframe[[\"total_rooms\"]]"
      ],
      "execution_count": 0,
      "outputs": []
    },
    {
      "cell_type": "code",
      "metadata": {
        "id": "Y7vO_4s6fnFA",
        "colab_type": "code",
        "colab": {}
      },
      "source": [
        "#Make a numeric feature column for total rooms\n",
        "feature_columns = [tf.feature_column.numeric_column(\"total_rooms\")]"
      ],
      "execution_count": 0,
      "outputs": []
    },
    {
      "cell_type": "code",
      "metadata": {
        "id": "4plneIUCfwqs",
        "colab_type": "code",
        "colab": {}
      },
      "source": [
        "#Define our label / target (median_house_value)\n",
        "targets = california_housing_dataframe[\"median_house_value\"]"
      ],
      "execution_count": 0,
      "outputs": []
    },
    {
      "cell_type": "code",
      "metadata": {
        "id": "S2T8hr2Wf1Cq",
        "colab_type": "code",
        "colab": {}
      },
      "source": [
        "#Configure the linear regressor\n",
        "# Let's train the model using GradientDescentOptimizer\n",
        "# GradientDescentOptimizer implements Mini-Batch Stochastic Gradient Descent. \n",
        "# learning_rate argument controls the size of the gradient step\n",
        "\n",
        "# Gradient Clipping - clip_gradients_by_norm ensures the magnitude of the gradients do not\n",
        "# become too large during taining (this can cause the gradient descent to fail)\n",
        "\n",
        "my_optimizer = tf.train.GradientDescentOptimizer(learning_rate=.0000001)\n",
        "my_optimizer = tf.contrib.estimator.clip_gradients_by_norm(my_optimizer, 5.0)"
      ],
      "execution_count": 0,
      "outputs": []
    },
    {
      "cell_type": "code",
      "metadata": {
        "id": "7jBJZr1n2xgQ",
        "colab_type": "code",
        "colab": {}
      },
      "source": [
        "# Congifure the linear regression model with our feature columns and optimizer\n",
        "# Use a learning rate of .0000001 for gradient descent\n",
        "linear_regressor = tf.estimator.LinearRegressor(\n",
        "    feature_columns = feature_columns,\n",
        "    optimizer = my_optimizer\n",
        ")"
      ],
      "execution_count": 0,
      "outputs": []
    },
    {
      "cell_type": "code",
      "metadata": {
        "id": "LM4z3L4k3Xis",
        "colab_type": "code",
        "colab": {}
      },
      "source": [
        "# Now, we need to instruct the model on how to import and preprocess our data\n",
        "# We also want to specify training parameters like how to batch, shuffle, and repeat\n",
        "\n",
        "# Convert our pandas feature data into a duct of NP arrays\n",
        "# then we can use TF Dataset API to construct a dataset object and break the set \n",
        "# into batches to be repeated for the specified number of epochs\n",
        "\n",
        "# Setting shuffle to true passes the data randomly during training\n",
        "# buffer_size specifies the size of the dataset from which suffle will randomly sample\n"
      ],
      "execution_count": 0,
      "outputs": []
    },
    {
      "cell_type": "code",
      "metadata": {
        "id": "GGzkv8836uA1",
        "colab_type": "code",
        "colab": {}
      },
      "source": [
        "def my_input_fn(features, targets, batch_size=1, shuffle=True, num_epochs=None):\n",
        "  \"\"\" Trains a linear regression model of one feature.\n",
        "  \n",
        "  Args:\n",
        "    features: pandas df of features\n",
        "    targets: pandas df of targets\n",
        "    batch_size: Size of batches to be passed to the model\n",
        "    shuffle: Whether to shuffle the data (true or false)\n",
        "    num_epochs: Number of epochs for which data should be repeated. None = repeat indefinitely\n",
        "\n",
        "  Returns:\n",
        "    Tuple of (features, labels) for next data batch\n",
        "  \"\"\"\n",
        "\n",
        "  #convert pandas data into a dict of np arrays.\n",
        "  features = {key:np.array(value) for key,value in dict(features).items()}\n",
        "\n",
        "  # Construct a dataset, and configure batching/repeating.\n",
        "  ds = Dataset.from_tensor_slices((features, targets)) #2GB limit \n",
        "  ds = ds.batch(batch_size).repeat(num_epochs)\n",
        "\n",
        "  # Shuffle the data (if specified)\n",
        "  if shuffle:\n",
        "    ds = ds.shuffle(buffer_size=10000)\n",
        "\n",
        "  # Return the next batch of data.\n",
        "  features, labels = ds.make_one_shot_iterator().get_next()\n",
        "  return features, labels"
      ],
      "execution_count": 0,
      "outputs": []
    },
    {
      "cell_type": "code",
      "metadata": {
        "id": "g6lMaDcf8TuR",
        "colab_type": "code",
        "colab": {}
      },
      "source": [
        "# Now for model training\n",
        "# Call train on our linear_regressor to train the model. \n",
        "# We wrap my_input_fn in a lambda so we can pass in my_feature and targets as\n",
        "# arguments and train for 100 steps\n",
        "_ = linear_regressor.train(\n",
        "    input_fn = lambda:my_input_fn(my_feature, targets),\n",
        "    steps = 100\n",
        ")\n",
        "\n",
        "# We use _ for values we won't need later"
      ],
      "execution_count": 0,
      "outputs": []
    },
    {
      "cell_type": "code",
      "metadata": {
        "id": "v_No_9HzAv6F",
        "colab_type": "code",
        "colab": {
          "base_uri": "https://localhost:8080/",
          "height": 51
        },
        "outputId": "50dfd902-fe69-4260-fae2-514eb76ef8dc"
      },
      "source": [
        "# Evaluate the model by making proedictions on that training data to see how\n",
        "# well the model fit during training\n",
        "\n",
        "# This is only training error, so we are not looking at how it generalizes now\n",
        "\n",
        "# Create an input function for predictions\n",
        "prediction_input_fn = lambda: my_input_fn(my_feature, targets, num_epochs=1, shuffle=False)\n",
        "\n",
        "# call predict() on the linear_regressor to make predictions.\n",
        "predictions = linear_regressor.predict(input_fn=prediction_input_fn)\n",
        "\n",
        "# Format predictions as a Numpy array, then calculate error metrics\n",
        "predictions = np.array([item['predictions'][0] for item in predictions])\n",
        "\n",
        "# Print Mean Squared Error and Root Mean Squared Error.\n",
        "mean_squared_error = metrics.mean_squared_error(predictions, targets)\n",
        "root_mean_squared_error = math.sqrt(mean_squared_error)\n",
        "print(\"MSE on training data: %0.3f\" % mean_squared_error)\n",
        "print(\"RMSE on training data: %0.3f\" % root_mean_squared_error)\n"
      ],
      "execution_count": 14,
      "outputs": [
        {
          "output_type": "stream",
          "text": [
            "MSE on training data: 56367.025\n",
            "RMSE on training data: 237.417\n"
          ],
          "name": "stdout"
        }
      ]
    },
    {
      "cell_type": "code",
      "metadata": {
        "id": "IxqGZLLQCyH-",
        "colab_type": "code",
        "colab": {
          "base_uri": "https://localhost:8080/",
          "height": 85
        },
        "outputId": "b0d6b073-4769-4c1b-e677-f347a8c5990a"
      },
      "source": [
        "# What do these values mean?\n",
        "# We generally like RMSE because it is more interpretable\n",
        "# and can be interpreted on the same scale as the original targets\n",
        "# Let's compare the RMSE to the difference of the min and max of our targets:\n",
        "min_house_value = california_housing_dataframe[\"median_house_value\"].min()\n",
        "max_house_value = california_housing_dataframe[\"median_house_value\"].max()\n",
        "min_max_difference = max_house_value - min_house_value\n",
        "\n",
        "print(\"Min. Median House Value: %.3f\" % min_house_value)\n",
        "print(\"Max. Median House Value: %.3f\" % max_house_value)\n",
        "print(\"Max Min difference: %.3f\" % min_max_difference)\n",
        "print(\"RMSE: %.3f\" % root_mean_squared_error)"
      ],
      "execution_count": 16,
      "outputs": [
        {
          "output_type": "stream",
          "text": [
            "Min. Median House Value: 14.999\n",
            "Max. Median House Value: 500.001\n",
            "Max Min difference: 485.002\n",
            "RMSE: 237.417\n"
          ],
          "name": "stdout"
        }
      ]
    },
    {
      "cell_type": "code",
      "metadata": {
        "id": "cEFecrFeESIm",
        "colab_type": "code",
        "colab": {
          "base_uri": "https://localhost:8080/",
          "height": 297
        },
        "outputId": "56e764a5-406b-4cde-f217-617e165f7b6a"
      },
      "source": [
        "# The error spans a large range of target values\n",
        "# Let's develop basic strategies to reduce model error\n",
        "# How well do the predictions match our targets in terms of overall summary stats?\n",
        "\n",
        "calibration_data = pd.DataFrame()\n",
        "calibration_data[\"predictions\"] = pd.Series(predictions)\n",
        "calibration_data[\"targets\"] = pd.Series(targets)\n",
        "calibration_data.describe()"
      ],
      "execution_count": 17,
      "outputs": [
        {
          "output_type": "execute_result",
          "data": {
            "text/html": [
              "<div>\n",
              "<style scoped>\n",
              "    .dataframe tbody tr th:only-of-type {\n",
              "        vertical-align: middle;\n",
              "    }\n",
              "\n",
              "    .dataframe tbody tr th {\n",
              "        vertical-align: top;\n",
              "    }\n",
              "\n",
              "    .dataframe thead th {\n",
              "        text-align: right;\n",
              "    }\n",
              "</style>\n",
              "<table border=\"1\" class=\"dataframe\">\n",
              "  <thead>\n",
              "    <tr style=\"text-align: right;\">\n",
              "      <th></th>\n",
              "      <th>predictions</th>\n",
              "      <th>targets</th>\n",
              "    </tr>\n",
              "  </thead>\n",
              "  <tbody>\n",
              "    <tr>\n",
              "      <th>count</th>\n",
              "      <td>17000.0</td>\n",
              "      <td>17000.0</td>\n",
              "    </tr>\n",
              "    <tr>\n",
              "      <th>mean</th>\n",
              "      <td>0.1</td>\n",
              "      <td>207.3</td>\n",
              "    </tr>\n",
              "    <tr>\n",
              "      <th>std</th>\n",
              "      <td>0.1</td>\n",
              "      <td>116.0</td>\n",
              "    </tr>\n",
              "    <tr>\n",
              "      <th>min</th>\n",
              "      <td>0.0</td>\n",
              "      <td>15.0</td>\n",
              "    </tr>\n",
              "    <tr>\n",
              "      <th>25%</th>\n",
              "      <td>0.1</td>\n",
              "      <td>119.4</td>\n",
              "    </tr>\n",
              "    <tr>\n",
              "      <th>50%</th>\n",
              "      <td>0.1</td>\n",
              "      <td>180.4</td>\n",
              "    </tr>\n",
              "    <tr>\n",
              "      <th>75%</th>\n",
              "      <td>0.2</td>\n",
              "      <td>265.0</td>\n",
              "    </tr>\n",
              "    <tr>\n",
              "      <th>max</th>\n",
              "      <td>1.9</td>\n",
              "      <td>500.0</td>\n",
              "    </tr>\n",
              "  </tbody>\n",
              "</table>\n",
              "</div>"
            ],
            "text/plain": [
              "       predictions  targets\n",
              "count      17000.0  17000.0\n",
              "mean           0.1    207.3\n",
              "std            0.1    116.0\n",
              "min            0.0     15.0\n",
              "25%            0.1    119.4\n",
              "50%            0.1    180.4\n",
              "75%            0.2    265.0\n",
              "max            1.9    500.0"
            ]
          },
          "metadata": {
            "tags": []
          },
          "execution_count": 17
        }
      ]
    },
    {
      "cell_type": "code",
      "metadata": {
        "id": "7tg0o8QCFDmS",
        "colab_type": "code",
        "colab": {}
      },
      "source": [
        "# Let's try some visualization\n",
        "# Get a uniform random sample of the data for a readable scatter\n",
        "sample = california_housing_dataframe.sample(n=300)"
      ],
      "execution_count": 0,
      "outputs": []
    },
    {
      "cell_type": "code",
      "metadata": {
        "id": "l572lBYsF4ot",
        "colab_type": "code",
        "colab": {
          "base_uri": "https://localhost:8080/",
          "height": 280
        },
        "outputId": "ab8e0495-7673-4025-f4aa-17d742d990cb"
      },
      "source": [
        "# Plot the line we learned, drawing from the model's bias term and feature weight\n",
        "# and the scatter plot\n",
        "\n",
        "# Get the min and max total_rooms values\n",
        "x_0 = sample[\"total_rooms\"].min()\n",
        "x_1 = sample[\"total_rooms\"].max()\n",
        "\n",
        "# Retrieve the final weight and bias generated during training\n",
        "weight = linear_regressor.get_variable_value('linear/linear_model/total_rooms/weights')[0]\n",
        "bias = linear_regressor.get_variable_value('linear/linear_model/bias_weights')\n",
        "\n",
        "# Get the predicted median_house_values for the min and max total_rooms values\n",
        "y_0 = weight * x_0 + bias\n",
        "y_1 = weight * x_1 + bias\n",
        "\n",
        "# Plot our regression line from (x_0, y_0) to (x_1, y_1)\n",
        "plt.plot([x_0, x_1], [y_0, y_1], c='r')\n",
        "\n",
        "plt.ylabel(\"median_house_value\")\n",
        "plt.xlabel(\"total_rooms\")\n",
        "\n",
        "# Plot a scatter plot from our data sample\n",
        "plt.scatter(sample[\"total_rooms\"], sample[\"median_house_value\"])\n",
        "plt.show()\n"
      ],
      "execution_count": 19,
      "outputs": [
        {
          "output_type": "display_data",
          "data": {
            "image/png": "[encoded data removed]",
            "text/plain": [
              "<Figure size 432x288 with 1 Axes>"
            ]
          },
          "metadata": {
            "tags": []
          }
        }
      ]
    },
    {
      "cell_type": "code",
      "metadata": {
        "id": "UyK-rmGiLvyL",
        "colab_type": "code",
        "colab": {}
      },
      "source": [
        "# hashtag way off \n",
        "# Try changing hyperparameters\n",
        "# For convenience, put everything we've done in a single function\n",
        "# Allows to easily call function with different parameters to test their effect\n",
        "def train_model(learning_rate, steps, batch_size, input_feature=\"total_rooms\"):\n",
        "  \"\"\"Trains a lin reg model with one feature\n",
        "  \n",
        "  Args:\n",
        "    learning_rate: `float` \n",
        "    steps: nonzero `int` total number of training steps. Each step is a forward\n",
        "      and backward passing using a single batch\n",
        "    batch_size: nonzero `int` \n",
        "    input_feature: `string` specifying a column from `california_housing_dataframe`\n",
        "  \"\"\"\n",
        "  periods = 10\n",
        "  steps_per_period = steps / periods\n",
        "  my_feature = input_feature\n",
        "  my_feature_data = california_housing_dataframe[[my_feature]]\n",
        "  my_label = \"median_house_value\"\n",
        "  targets = california_housing_dataframe[my_label]\n",
        "\n",
        "  #Create feature columns\n",
        "  feature_columns = [tf.feature_column.numeric_column(my_feature)]\n",
        "\n",
        "  #input functions\n",
        "  training_input_fn = lambda:my_input_fn(my_feature_data, targets, batch_size=batch_size)\n",
        "  prediction_input_fn = lambda: my_input_fn(my_feature_data, targets, num_epochs=1, shuffle=False)\n",
        "\n",
        "  #create lin reg object\n",
        "  my_optimizer = tf.train.GradientDescentOptimizer(learning_rate=learning_rate)\n",
        "  my_optimizer = tf.contrib.estimator.clip_gradients_by_norm(my_optimizer, 5.0)\n",
        "  linear_regressor = tf.estimator.LinearRegressor(\n",
        "      feature_columns=feature_columns,\n",
        "      optimizer=my_optimizer\n",
        "  )\n",
        "\n",
        "  # plot the model's line each period\n",
        "  plt.figure(figsize=(15,6))\n",
        "  plt.subplot(1,2,1)\n",
        "  plt.title(\"Learned Line by Period\")\n",
        "  plt.ylabel(my_label)\n",
        "  plt.xlabel(my_feature)\n",
        "  sample = california_housing_dataframe.sample(n=300)\n",
        "  plt.scatter(sample[my_feature], sample[my_label])\n",
        "  colors = [cm.coolwarm(x) for x in np.linspace(-1,1,periods)]\n",
        "\n",
        "  # Train the model in a loop so we can assess periodically\n",
        "  print(\"Training model...\")\n",
        "  print(\"RMSE on training data:\")\n",
        "  root_mean_squared_errors = []\n",
        "  for period in range(0,periods):\n",
        "    #train model, starting from prior state\n",
        "    linear_regressor.train(\n",
        "        input_fn=training_input_fn,\n",
        "        steps=steps_per_period\n",
        "    )\n",
        "\n",
        "  # Compute predictions\n",
        "  predictions = linear_regressor.predict(input_fn=prediction_input_fn)\n",
        "  predictions = np.array([item['predictions'][0] for item in predictions])\n",
        "  \n",
        "  # Compute loss\n",
        "  root_mean_squared_error = math.sqrt(\n",
        "      metrics.mean_squared_error(predictions, targets)\n",
        "  )\n",
        "\n",
        "  # Print current loss and add loss metrics to the list\n",
        "  print(\" period %02d : %.2f\" % (period, root_mean_squared_error))\n",
        "  root_mean_squared_errors.append(root_mean_squared_error)\n",
        "\n",
        "  # Track weights and biases over time and ensure data and line are plotted neatly\n",
        "  y_extents = np.array([0, sample[my_label].max()])\n",
        "\n",
        "  weight = linear_regressor.get_variable_value('linear/linear_model/%s/weights' % input_feature)[0]\n",
        "  bias = linear_regressor.get_variable_value('linear/linear_model/bias_weights')\n",
        "\n",
        "  x_extents = (y_extents - bias) / weight\n",
        "  x_extents = np.maximum(np.minimum(x_extents,\n",
        "                                    sample[my_feature].max()),\n",
        "                         sample[my_feature].min())\n",
        "  y_extents = weight * x_extents + bias\n",
        "  plt.plot(x_extents, y_extents, color=colors[period])\n",
        "  print(\"Model training finished.\")\n",
        "\n",
        "  # Graph of loss metrics over periods.\n",
        "  plt.subplot(1,2,2)\n",
        "  plt.ylabel('RMSE')\n",
        "  plt.xlabel('Periods')\n",
        "  plt.title(\"RMSE vs Periods\")\n",
        "  plt.tight_layout()\n",
        "  plt.plot(root_mean_squared_errors)\n",
        "\n",
        "  # Table with calibration data\n",
        "  calibration_data = pd.DataFrame()\n",
        "  calibration_data[\"predictions\"] = pd.Series(predictions)\n",
        "  calibration_data[\"targets\"] = pd.Series(targets)\n",
        "  display.display(calibration_data.describe())\n",
        "\n",
        "  print(\"Final RMSE on training data : %.2f\" % root_mean_squared_error)\n"
      ],
      "execution_count": 0,
      "outputs": []
    },
    {
      "cell_type": "code",
      "metadata": {
        "id": "zMosDfWUNxNl",
        "colab_type": "code",
        "colab": {
          "base_uri": "https://localhost:8080/",
          "height": 806
        },
        "outputId": "ccbf6330-e5f7-4a05-c8c5-75a35bb920e2"
      },
      "source": [
        "# Try to achieve an RMSE less than 180\n",
        "\n",
        "# Increase learning rate by one significant fig\n",
        "train_model(\n",
        "    learning_rate = .0001,\n",
        "    steps=100,\n",
        "    batch_size=1\n",
        ")"
      ],
      "execution_count": 29,
      "outputs": [
        {
          "output_type": "stream",
          "text": [
            "Training model...\n",
            "RMSE on training data:\n",
            " period 09 : 166.74\n",
            "Model training finished.\n"
          ],
          "name": "stdout"
        },
        {
          "output_type": "display_data",
          "data": {
            "text/html": [
              "<div>\n",
              "<style scoped>\n",
              "    .dataframe tbody tr th:only-of-type {\n",
              "        vertical-align: middle;\n",
              "    }\n",
              "\n",
              "    .dataframe tbody tr th {\n",
              "        vertical-align: top;\n",
              "    }\n",
              "\n",
              "    .dataframe thead th {\n",
              "        text-align: right;\n",
              "    }\n",
              "</style>\n",
              "<table border=\"1\" class=\"dataframe\">\n",
              "  <thead>\n",
              "    <tr style=\"text-align: right;\">\n",
              "      <th></th>\n",
              "      <th>predictions</th>\n",
              "      <th>targets</th>\n",
              "    </tr>\n",
              "  </thead>\n",
              "  <tbody>\n",
              "    <tr>\n",
              "      <th>count</th>\n",
              "      <td>17000.0</td>\n",
              "      <td>17000.0</td>\n",
              "    </tr>\n",
              "    <tr>\n",
              "      <th>mean</th>\n",
              "      <td>121.6</td>\n",
              "      <td>207.3</td>\n",
              "    </tr>\n",
              "    <tr>\n",
              "      <th>std</th>\n",
              "      <td>100.3</td>\n",
              "      <td>116.0</td>\n",
              "    </tr>\n",
              "    <tr>\n",
              "      <th>min</th>\n",
              "      <td>0.1</td>\n",
              "      <td>15.0</td>\n",
              "    </tr>\n",
              "    <tr>\n",
              "      <th>25%</th>\n",
              "      <td>67.3</td>\n",
              "      <td>119.4</td>\n",
              "    </tr>\n",
              "    <tr>\n",
              "      <th>50%</th>\n",
              "      <td>97.8</td>\n",
              "      <td>180.4</td>\n",
              "    </tr>\n",
              "    <tr>\n",
              "      <th>75%</th>\n",
              "      <td>145.0</td>\n",
              "      <td>265.0</td>\n",
              "    </tr>\n",
              "    <tr>\n",
              "      <th>max</th>\n",
              "      <td>1745.1</td>\n",
              "      <td>500.0</td>\n",
              "    </tr>\n",
              "  </tbody>\n",
              "</table>\n",
              "</div>"
            ],
            "text/plain": [
              "       predictions  targets\n",
              "count      17000.0  17000.0\n",
              "mean         121.6    207.3\n",
              "std          100.3    116.0\n",
              "min            0.1     15.0\n",
              "25%           67.3    119.4\n",
              "50%           97.8    180.4\n",
              "75%          145.0    265.0\n",
              "max         1745.1    500.0"
            ]
          },
          "metadata": {
            "tags": []
          }
        },
        {
          "output_type": "stream",
          "text": [
            "Final RMSE on training data : 166.74\n"
          ],
          "name": "stdout"
        },
        {
          "output_type": "display_data",
          "data": {
            "image/png": "[encoded data removed]",
            "text/plain": [
              "<Figure size 1080x432 with 2 Axes>"
            ]
          },
          "metadata": {
            "tags": []
          }
        }
      ]
    },
    {
      "cell_type": "code",
      "metadata": {
        "id": "Z1N2l690SsHJ",
        "colab_type": "code",
        "colab": {
          "base_uri": "https://localhost:8080/",
          "height": 806
        },
        "outputId": "ca140b28-b0df-4663-e07a-231b2060cec2"
      },
      "source": [
        "# RMSE below 180, let's try to go lower\n",
        "\n",
        "train_model(\n",
        "    learning_rate=.001,\n",
        "    steps=400,\n",
        "    batch_size=5,\n",
        ")"
      ],
      "execution_count": 37,
      "outputs": [
        {
          "output_type": "stream",
          "text": [
            "Training model...\n",
            "RMSE on training data:\n",
            " period 09 : 196.42\n",
            "Model training finished.\n"
          ],
          "name": "stdout"
        },
        {
          "output_type": "display_data",
          "data": {
            "text/html": [
              "<div>\n",
              "<style scoped>\n",
              "    .dataframe tbody tr th:only-of-type {\n",
              "        vertical-align: middle;\n",
              "    }\n",
              "\n",
              "    .dataframe tbody tr th {\n",
              "        vertical-align: top;\n",
              "    }\n",
              "\n",
              "    .dataframe thead th {\n",
              "        text-align: right;\n",
              "    }\n",
              "</style>\n",
              "<table border=\"1\" class=\"dataframe\">\n",
              "  <thead>\n",
              "    <tr style=\"text-align: right;\">\n",
              "      <th></th>\n",
              "      <th>predictions</th>\n",
              "      <th>targets</th>\n",
              "    </tr>\n",
              "  </thead>\n",
              "  <tbody>\n",
              "    <tr>\n",
              "      <th>count</th>\n",
              "      <td>17000.0</td>\n",
              "      <td>17000.0</td>\n",
              "    </tr>\n",
              "    <tr>\n",
              "      <th>mean</th>\n",
              "      <td>211.5</td>\n",
              "      <td>207.3</td>\n",
              "    </tr>\n",
              "    <tr>\n",
              "      <th>std</th>\n",
              "      <td>174.4</td>\n",
              "      <td>116.0</td>\n",
              "    </tr>\n",
              "    <tr>\n",
              "      <th>min</th>\n",
              "      <td>0.2</td>\n",
              "      <td>15.0</td>\n",
              "    </tr>\n",
              "    <tr>\n",
              "      <th>25%</th>\n",
              "      <td>117.0</td>\n",
              "      <td>119.4</td>\n",
              "    </tr>\n",
              "    <tr>\n",
              "      <th>50%</th>\n",
              "      <td>170.2</td>\n",
              "      <td>180.4</td>\n",
              "    </tr>\n",
              "    <tr>\n",
              "      <th>75%</th>\n",
              "      <td>252.1</td>\n",
              "      <td>265.0</td>\n",
              "    </tr>\n",
              "    <tr>\n",
              "      <th>max</th>\n",
              "      <td>3034.9</td>\n",
              "      <td>500.0</td>\n",
              "    </tr>\n",
              "  </tbody>\n",
              "</table>\n",
              "</div>"
            ],
            "text/plain": [
              "       predictions  targets\n",
              "count      17000.0  17000.0\n",
              "mean         211.5    207.3\n",
              "std          174.4    116.0\n",
              "min            0.2     15.0\n",
              "25%          117.0    119.4\n",
              "50%          170.2    180.4\n",
              "75%          252.1    265.0\n",
              "max         3034.9    500.0"
            ]
          },
          "metadata": {
            "tags": []
          }
        },
        {
          "output_type": "stream",
          "text": [
            "Final RMSE on training data : 196.42\n"
          ],
          "name": "stdout"
        },
        {
          "output_type": "display_data",
          "data": {
            "image/png": "[encoded data removed]",
            "text/plain": [
              "<Figure size 1080x432 with 2 Axes>"
            ]
          },
          "metadata": {
            "tags": []
          }
        }
      ]
    },
    {
      "cell_type": "code",
      "metadata": {
        "id": "tZHIX46BX0qH",
        "colab_type": "code",
        "colab": {}
      },
      "source": [
        ""
      ],
      "execution_count": 0,
      "outputs": []
    }
  ]
}